{
  "nbformat": 4,
  "nbformat_minor": 0,
  "metadata": {
    "colab": {
      "provenance": []
    },
    "kernelspec": {
      "name": "python3",
      "display_name": "Python 3"
    },
    "language_info": {
      "name": "python"
    }
  },
  "cells": [
    {
      "cell_type": "markdown",
      "source": [
        "# Trabalho 01 – Implementação Em Python Do Método De Gauss-seidel\n",
        "\n",
        "---\n",
        "\n"
      ],
      "metadata": {
        "id": "iByNbqHdTu0X"
      }
    },
    {
      "cell_type": "markdown",
      "source": [
        "## Alunos"
      ],
      "metadata": {
        "id": "73ohY_4XTbom"
      }
    },
    {
      "cell_type": "markdown",
      "source": [
        "João Guilherme Vargas e Marco Antônio"
      ],
      "metadata": {
        "id": "YQuV_uw9Z1NI"
      }
    },
    {
      "cell_type": "markdown",
      "source": [
        "## Descrição do Trabalho"
      ],
      "metadata": {
        "id": "14Y0UyvuT7Jp"
      }
    },
    {
      "cell_type": "markdown",
      "source": [
        "`Apresente o código **COMENTADO** em **PYTHON** do **MÉTODO DE GAUSS-SEIDEL** e utilize este código para resolver o problema apresentado. <br>\n",
        "Você deve enviar um arquivo único no formato [.txt] para que o professor possa testá-lo no ambiente do Google Colab <br>\n",
        "\n",
        "Encontre a solução do Sistema Linear:\n",
        "$$\n",
        "\\begin{cases}\n",
        "7x_1+1x_2-1x_3+4x_4=-10 \\\\\n",
        "1x_1-5x_2+1x_3-2x_4=2 \\\\\n",
        "1x_1+0x_2+3x_3-1x_4=11 \\\\\n",
        "3x_1+1x_2-3x_3+8x_4=-24\n",
        "\\end{cases}\n",
        "$$\n",
        "\n",
        "\n",
        "\n",
        "Pelo **Método de Jacobi** com $\\varepsilon \\leq 0.0005$ e $ [x^0]^T = \\begin{bmatrix} -0.3 & 1.3 & 2.8 & -2.3 \\end{bmatrix}$ <br>\n",
        "(utilize os testes de convergência e trocas de linha se necessário) <br>\n",
        "\n",
        "Implementar também uma forma de avaliar a qualidade do ajuste, através do vetor resíduo."
      ],
      "metadata": {
        "id": "rV07ArKNZ5AH"
      }
    },
    {
      "cell_type": "markdown",
      "source": [
        "# 1. Introdução"
      ],
      "metadata": {
        "id": "tS5IaSxdmLLw"
      }
    },
    {
      "cell_type": "markdown",
      "source": [
        "## 1.1 Preparando o Ambiente"
      ],
      "metadata": {
        "id": "-PhA25dHavPm"
      }
    },
    {
      "cell_type": "markdown",
      "source": [
        "Vamos preparar o ambiente de execução com as informações dadas pela descrição, além das bibliotecas necessárias. Só é necessário rodar os blocos de código abaixo uma vez cada."
      ],
      "metadata": {
        "id": "9F9PetB3cLi_"
      }
    },
    {
      "cell_type": "markdown",
      "source": [
        "### 1.1.1 Importar bibliotecas"
      ],
      "metadata": {
        "id": "VdKS0PDAnIJQ"
      }
    },
    {
      "cell_type": "code",
      "source": [
        "import numpy as np"
      ],
      "metadata": {
        "id": "Hu_h9MUgbXaa"
      },
      "execution_count": null,
      "outputs": []
    },
    {
      "cell_type": "markdown",
      "source": [
        "### 1.1.2 Definir as variáveis"
      ],
      "metadata": {
        "id": "G31AIOWgnh5G"
      }
    },
    {
      "cell_type": "code",
      "source": [
        "m_A = np.array([\n",
        "  [7,  1,  -1,  4],\n",
        "  [1, -5,  1,  -2],\n",
        "  [1,  0,  3,  -1],\n",
        "  [3,  1,  -3,  8]]\n",
        "  , dtype=np.float64) # Matriz A\n",
        "\n",
        "v_b = np.array([-10, 2, 11, -24], dtype=np.float64) # Vetor b\n",
        "\n",
        "tolerancia = 0.0005  # Tolerância de erro\n",
        "\n",
        "x0 = np.array([-0.3, 1.3, 2.8, -2.3], dtype=np.float64)  # Chute inicial para a solução"
      ],
      "metadata": {
        "id": "8vStDbv-nmSw"
      },
      "execution_count": null,
      "outputs": []
    },
    {
      "cell_type": "markdown",
      "source": [
        "### 1.1.3 Definir as funções auxiliares"
      ],
      "metadata": {
        "id": "DU6A5Bf_ntZ6"
      }
    },
    {
      "cell_type": "code",
      "source": [
        "# Função que calcula o erro absoluto entre os vetores verdadeiro e aproximado\n",
        "def erro_absoluto(vetor_verdadeiro, vetor_aproximado, norma=\"euclidiana\"):\n",
        "  diferenca = np.array(vetor_verdadeiro) - np.array(vetor_aproximado)\n",
        "\n",
        "  if norma == \"euclidiana\":\n",
        "    return np.linalg.norm(diferenca, ord=2)\n",
        "  elif norma == \"infinita\":\n",
        "    return np.linalg.norm(diferenca, ord=np.inf)\n",
        "  else:\n",
        "    raise ValueError(\"Norma inválida. Use 'euclidiana' ou 'infinita'.\")\n",
        "\n",
        "\n",
        "# Função que calcula o erro relativo entre os vetores verdadeiro e aproximado\n",
        "def erro_relativo(vetor_verdadeiro, vetor_aproximado, norma=\"euclidiana\"):\n",
        "  erro_abs = erro_absoluto(vetor_verdadeiro, vetor_aproximado, norma)\n",
        "\n",
        "  norma_verdadeiro = np.linalg.norm(vetor_verdadeiro, ord=2 if norma == \"euclidiana\" else np.inf)\n",
        "  if norma_verdadeiro == 0:\n",
        "    raise ZeroDivisionError(\"A norma do vetor verdadeiro é zero, não é possível calcular o erro relativo.\")\n",
        "  return erro_abs / norma_verdadeiro\n",
        "\n",
        "\n",
        "# Função que verifica se a matriz A é diagonal dominante\n",
        "def tem_diagonal_dominante(A):\n",
        "  for i in range(len(A)):\n",
        "    soma_linha = sum(abs(A[i][j]) for j in range(len(A[i])) if i != j)\n",
        "    if abs(A[i][i]) <= soma_linha:\n",
        "      return False\n",
        "  return True\n",
        "\n",
        "\n",
        "# Função que tenta tornar a matriz A diagonal dominante, se necessário\n",
        "def tornar_diagonal_dominante(A, b):\n",
        "  n = len(A)\n",
        "  A = A.copy()\n",
        "  b = b.copy()\n",
        "  for i in range(n):\n",
        "    max_index = max(range(i, n), key=lambda k: abs(A[k][i]))\n",
        "    if i != max_index:\n",
        "      A[[i, max_index]] = A[[max_index, i]]\n",
        "      b[i], b[max_index] = b[max_index], b[i]\n",
        "  return A, b\n",
        "\n",
        "def calcular_residuo(A, b, x):\n",
        "  return b - np.dot(A, x)"
      ],
      "metadata": {
        "id": "lwL8khn5n0-4"
      },
      "execution_count": null,
      "outputs": []
    },
    {
      "cell_type": "markdown",
      "source": [
        "## 1.2 Métodos Iterativos"
      ],
      "metadata": {
        "id": "3Qoq-_7JegVO"
      }
    },
    {
      "cell_type": "markdown",
      "source": [
        "Um conjunto de procedimentos utilizados para transformar um modelo matemático num problema numérico ou um conjunto de procedimentos para resolver um problema numérico. Caracterizado por envolver os seguintes elementos constitutivos:\n",
        "\n",
        "\n",
        "1. Aproximação inicial: <br>\n",
        "Consiste em uma primeira aproximação para a solução desejada do problema numérico\n",
        "2. Equação de recorrência: <br>\n",
        "Equação por meio da qual, partindo-se da tentativa inicial, são realizadas as iterações para a solução desejada\n",
        "3. Critério de parada: <br>\n",
        "É o instrumento por meio do qual o procedimento iterativa é finalizado. Maiores detalhes sobre métodos iterativos serão discutidos ao longo dos capítulos\n",
        "\n"
      ],
      "metadata": {
        "id": "POA1C524es9X"
      }
    },
    {
      "cell_type": "markdown",
      "source": [
        "# 2. Método de Jacobi"
      ],
      "metadata": {
        "id": "cKJghH3Vc_g8"
      }
    },
    {
      "cell_type": "markdown",
      "source": [
        "## 2.1 Descrição"
      ],
      "metadata": {
        "id": "x_WvfcHFp47_"
      }
    },
    {
      "cell_type": "markdown",
      "source": [
        "Dado um sistema linear com $a_{ii} \\neq 0$:\n",
        "$$\n",
        "\\begin{cases}\n",
        "a_{11}x_1 + a_{12}x_2 + ... + a_{1n}x_n & = b_1\\\\\n",
        "a_{21}x_1 + a_{22}x_2 + ... + a_{2n}xn & = b_2 \\\\\n",
        "... & = ... \\\\\n",
        "a_{n1}x_1 + a_{n2}x_2 + ... + a_{nn}x_n & = bn\n",
        "\\end{cases}\n",
        "$$"
      ],
      "metadata": {
        "id": "bjXhnrcreLqp"
      }
    },
    {
      "cell_type": "markdown",
      "source": [
        "Isolando cada $x_n$ das equações, obtem-se:\n",
        "$$\n",
        "\\begin{cases}\n",
        "x_1 = \\frac{b_1 - a_{11}x_1 + a_{12}x_2 + ... + a_{1n}x_{n}}{a_{11n}} \\\\\n",
        "x_2 = \\frac{b_2 - a_{21}x_1 + a_{23}x_3 + ... + a_{2n}x_{n}}{a_{22}} \\\\\n",
        ".. \\\\\n",
        "x_n = \\frac{b_n - a_{n1}x_1 + a_{n2}x_2 + ... + a_{nn-1}x_{n-1}}{a_{nn}}\n",
        "\\end{cases}\n",
        "$$"
      ],
      "metadata": {
        "id": "dKZZOIeYiTQf"
      }
    },
    {
      "cell_type": "markdown",
      "source": [
        "Reescrevendo, tem-se:\n",
        "$$\n",
        "x = Fx + d \\\\\n",
        "x =\n",
        "\\begin{bmatrix}\n",
        "0 & -\\frac{a_{12}}{a_{11}} & -\\frac{a_{13}}{a_{11}} & ... & -\\frac{a_{1n}}{a_{11}} \\\\\n",
        "-\\frac{a_{21}}{a_{22}} & 0 & -\\frac{a_{23}}{a_{22}} & ... & -\\frac{a_{2n}}{a_{22}} \\\\\n",
        "\\vdots & \\vdots & \\vdots & \\vdots & \\vdots \\\\\n",
        "-\\frac{a_{n1}}{a_{nn}} & -\\frac{a_{n2}}{a_{nn}} & -\\frac{a_{n3}}{a_{nn}} & ... & 0\n",
        "\\end{bmatrix}\n",
        "\\begin{bmatrix}\n",
        "x_1 \\\\\n",
        "x_2 \\\\\n",
        "\\vdots \\\\\n",
        "x_n\n",
        "\\end{bmatrix}\n",
        "+\n",
        "\\begin{bmatrix}\n",
        "\\frac{b_{1}}{a_{11}} \\\\\n",
        "\\frac{b_{2}}{a_{22}} \\\\\n",
        "\\vdots \\\\\n",
        "\\frac{b_{n}}{a_{nn}} \\\\\n",
        "\\end{bmatrix}\n",
        "$$"
      ],
      "metadata": {
        "id": "SXaXAf_OmlgD"
      }
    },
    {
      "cell_type": "markdown",
      "source": [
        "Portanto, através de Jacobi tem-se que: <br>\n",
        "1. Escolhe-se uma aproximação inicial $x^{(0)} = (x_{1}^{(0)}, x_{2}^{(0)}, ..., x_{n}^{(0)})\n",
        "$ \\\\\n",
        "2. Geram-se sucessivas $x^{(k)}$ a partir da iteração $x^{(k+1)} = Fx^{(k)}+d$ para $k = 0, 1, 2, ...$ \\\\\n",
        "3. Continua-se iterando até o critério de parada seja alcançado."
      ],
      "metadata": {
        "id": "jCk6IqcEolyM"
      }
    },
    {
      "cell_type": "markdown",
      "source": [
        "### 2.1.1 Critério de Parada"
      ],
      "metadata": {
        "id": "G6NfzeEmqGBA"
      }
    },
    {
      "cell_type": "markdown",
      "source": [
        "Como critério de parada podemos usar os erros absoluto e relativo, com as normas $1$, $2$ ou $\\infty$.\n",
        "\n",
        "* $||x^{(k)} = x^{(x-1)}|| < \\varepsilon$\n",
        "* $\\frac{||x^{(k)} = x^{(x-1)}||}{||x^{(k)}||} < \\varepsilon$\n",
        "* $k > k_{max}$ em que $k_{max}$ é o número máximo de iterações.\n",
        "\n"
      ],
      "metadata": {
        "id": "fE2PIbbfqKz1"
      }
    },
    {
      "cell_type": "markdown",
      "source": [
        "### 2.1.2 Critério de Convergencia"
      ],
      "metadata": {
        "id": "cgHWOh3JrdZ6"
      }
    },
    {
      "cell_type": "markdown",
      "source": [
        "Dado um sistema $Ax = b$, é condição suficiente para a convergência do método iterativo de Jacobi\n",
        "que a matriz dos coeficientes A seja diagonal estritamente dominante por linhas, ou seja:\n",
        "$$\n",
        "|a_{ii}| > \\sum_{j=1, j \\neq i}^{n}|a_{ij}|, i = 1, 2, ... , n\n",
        "$$"
      ],
      "metadata": {
        "id": "wE31UN5trjg-"
      }
    },
    {
      "cell_type": "markdown",
      "source": [
        "## 2.2 Implementação"
      ],
      "metadata": {
        "id": "OF0kH0WnszDq"
      }
    },
    {
      "cell_type": "markdown",
      "source": [
        "### 2.2.1 Métodos"
      ],
      "metadata": {
        "id": "bsg1xvDA1Ou2"
      }
    },
    {
      "cell_type": "code",
      "source": [
        "def metodo_jacobi(A, b, x0, tolerancia, norma=\"euclidiana\", max_iter=500, num_casas=6):\n",
        "  A, b = tornar_diagonal_dominante(A, b)\n",
        "  if not tem_diagonal_dominante(A):\n",
        "    raise ValueError(\"Não foi possível tornar a matriz diagonal dominante. O método pode não convergir.\")\n",
        "\n",
        "  vetor_resolvido = np.linalg.solve(A, b)\n",
        "  x = x0\n",
        "  num_linhas = len(A)\n",
        "\n",
        "  print(f\"Iteração 0: x = {x}\")\n",
        "\n",
        "  for it in range(max_iter):\n",
        "    x_new = np.zeros_like(x)  # Cria um vetor de zeros para armazenar a nova solução\n",
        "    for i in range(num_linhas):\n",
        "      # Calcula a nova solução para x[i] com base nos valores anteriores de x\n",
        "      s = sum(A[i][j] * x[j] for j in range(num_linhas) if i != j)\n",
        "      x_new[i] = (b[i] - s) / A[i][i]  # Fórmula do método de Jacobi\n",
        "\n",
        "    err_abs = erro_absoluto(x_new, x, norma) # Calcula o erro relativo entre as soluções\n",
        "    print(f\"Iteração {it + 1}: x = {x_new}\")\n",
        "    print(f\"Erro absoluto: {err_abs:.6f} \\n\")\n",
        "\n",
        "    if err_abs <= tolerancia:\n",
        "      print(f\"\\nConvergiu em {it + 1} iterações\")\n",
        "      return x_new\n",
        "\n",
        "    x = x_new\n",
        "\n",
        "\n",
        "  print(f\"Não convergiu após {max_iter} iterações.\")\n",
        "\n",
        "print(\"=== Método de Jacobi ===\")\n",
        "solucao_jacobi = metodo_jacobi(m_A, v_b, x0, tolerancia, norma=\"euclidiana\", max_iter=500)\n",
        "residuo = calcular_residuo(m_A, v_b, solucao_gs)\n",
        "print(f\"Solução aproximada (Jacobi): {solucao_jacobi}\")\n",
        "print(f\"Solução exata: {np.linalg.solve(m_A, v_b)}\")\n",
        "print(f\"Erro relativo: {(erro_relativo(np.linalg.solve(m_A, v_b), solucao_jacobi)*100)}%\")\n",
        "print(f\"Vetor resíduo: {residuo}\")"
      ],
      "metadata": {
        "colab": {
          "base_uri": "https://localhost:8080/"
        },
        "id": "8pZQsDk84AqU",
        "outputId": "fd6523bf-863f-4212-d3ed-bbd505f898d3"
      },
      "execution_count": null,
      "outputs": [
        {
          "output_type": "stream",
          "name": "stdout",
          "text": [
            "=== Método de Jacobi ===\n",
            "Iteração 0: x = [-0.3  1.3  2.8 -2.3]\n",
            "Iteração 1: x = [ 0.1   1.02  3.   -2.  ]\n",
            "Erro absoluto: 0.606960 \n",
            "\n",
            "Iteração 2: x = [-2.85714286e-03  1.02000000e+00  2.96666667e+00 -2.04000000e+00]\n",
            "Erro absoluto: 0.115285 \n",
            "\n",
            "Iteração 3: x = [ 0.0152381   1.0087619   2.98761905 -2.01392857]\n",
            "Erro absoluto: 0.039654 \n",
            "\n",
            "Iteração 4: x = [ 0.00493878  1.00614286  2.99027778 -2.01145238]\n",
            "Erro absoluto: 0.011231 \n",
            "\n",
            "Iteração 5: x = [ 0.00427778  1.00362426  2.99453628 -2.00626573]\n",
            "Erro absoluto: 0.007198 \n",
            "\n",
            "Iteração 6: x = [ 2.28213476e-03  1.00226910e+00  2.99648550e+00 -2.00410609e+00]\n",
            "Erro absoluto: 0.003779 \n",
            "\n",
            "Iteração 7: x = [ 1.52010987e-03  1.00139596e+00  2.99787059e+00 -2.00245738e+00]\n",
            "Erro absoluto: 0.002445 \n",
            "\n",
            "Iteração 8: x = [ 9.00590745e-04  1.00086109e+00  2.99867417e+00 -2.00154307e+00]\n",
            "Erro absoluto: 0.001467 \n",
            "\n",
            "Iteração 9: x = [ 5.69334467e-04  1.00053218e+00  2.99918545e+00 -2.00094254e+00]\n",
            "Erro absoluto: 0.000916 \n",
            "\n",
            "Iteração 10: x = [ 3.46206377e-04  1.00032797e+00  2.99949604e+00 -2.00058548e+00]\n",
            "Erro absoluto: 0.000562 \n",
            "\n",
            "Iteração 11: x = [ 2.15712220e-04  1.00020264e+00  2.99968944e+00 -2.00035981e+00]\n",
            "Erro absoluto: 0.000348 \n",
            "\n",
            "\n",
            "Convergiu em 11 iterações\n",
            "Solução aproximada (Jacobi): [ 2.15712220e-04  1.00020264e+00  2.99968944e+00 -2.00035981e+00]\n",
            "Solução exata: [ 2.22044605e-16  1.00000000e+00  3.00000000e+00 -2.00000000e+00]\n",
            "Erro relativo: 0.014964398097862167%\n"
          ]
        }
      ]
    },
    {
      "cell_type": "markdown",
      "source": [
        "# 3. Método de Gauss-Seidel"
      ],
      "metadata": {
        "id": "K-OooXQ2cxhs"
      }
    },
    {
      "cell_type": "markdown",
      "source": [
        "O método de Gauss-Seidel é um método iterativo para resolução de sistemas lineares. As equações do método se baseam nos resultados anteriores e, diferente do método de Jacobi, também se basea nos resultados que estão sendo obtidos nessa iteração. No caso de um sistema com quatro variáveis (como o sistema que será testado), ele segue as seguintes fórmulas."
      ],
      "metadata": {
        "id": "ss14mDdQPuDm"
      }
    },
    {
      "cell_type": "markdown",
      "source": [
        "$$\n",
        "x_1^{k+1}= \\frac{b_1-(a_{12}x_2^{k}+a_{13}x_3^k+a_{14}x_{4}^{k})}{a_{11}} \\\\\n",
        "x_2^{k+1}=\\frac{b_2-(a_{21}x_1^{k+1}+a_{23}x_3^k+a_{24}x_4^{k})}{a_{22}} \\\\\n",
        "x_3^{k+1}=\\frac{b_3-(a_{31}x_1^{k+1}+a_{32}x_2^{k+1}+a_{34}x_4^{k})}{a_{33}} \\\\\n",
        "x_4^{k+1}=\\frac{b_4-(a_{41}x_1^{k+1}+a_{42}x_2^{k+1}+a_{43}x_3^{k+1})}{a_{44}}\n",
        "$$"
      ],
      "metadata": {
        "id": "5Ctx_O9FRKF9"
      }
    },
    {
      "cell_type": "markdown",
      "source": [
        "$$ {\\displaystyle x_{i}^{(k+1)}={\\frac {1}{a_{ii}}}\\left(b_{i}-\\sum _{j<i}a_{ij}x_{j}^{(k+1)}-\\sum _{j>i}a_{ij}x_{j}^{(k)}\\right),\\,i=1,2,\\ldots ,n.}$$\n"
      ],
      "metadata": {
        "id": "NtMhJixW1UT9"
      }
    },
    {
      "cell_type": "code",
      "source": [
        "def metodo_gauss_seidel(A, b, x0, tolerancia, norma=\"euclidiana\", max_iter=500):\n",
        "  if not tem_diagonal_dominante(A):\n",
        "    raise ValueError(\"A matriz não é diagonal dominante. O método pode não convergir.\")\n",
        "\n",
        "  x = x0\n",
        "  num_linhas = len(A)\n",
        "\n",
        "  print(f\"Iteração 0: x = {x}\\n\")\n",
        "\n",
        "  for it in range(max_iter):\n",
        "    x_new = np.copy(x)  # Copia o vetor atual para atualizar os valores\n",
        "\n",
        "    for i in range(num_linhas):\n",
        "      s1 = sum(A[i][j] * x_new[j] for j in range(i))  # Soma com os valores já atualizados\n",
        "      s2 = sum(A[i][j] * x[j] for j in range(i + 1, num_linhas))  # Soma com os valores antigos\n",
        "      x_new[i] = (b[i] - s1 - s2) / A[i][i]  # Atualiza x[i]\n",
        "\n",
        "    err_abs = erro_absoluto(x_new, x, norma)  # Calcula o erro absoluto\n",
        "    print(f\"Iteração {it + 1}: x = {x_new}\")\n",
        "    print(f\"Erro absoluto: {err_abs:.6f} \\n\")\n",
        "\n",
        "    if err_abs <= tolerancia:\n",
        "      print(f\"\\nConvergiu em {it + 1} iterações\")\n",
        "      return x_new\n",
        "\n",
        "    x = x_new  # Atualiza o vetor x para a próxima iteração\n",
        "\n",
        "  print(f\"Não convergiu após {max_iter} iterações.\")\n",
        "  return x\n",
        "\n",
        "print(\"\\n=== Método de Gauss-Seidel ===\")\n",
        "solucao_gs = metodo_gauss_seidel(m_A, v_b, x0, tolerancia, norma=\"euclidiana\", max_iter=500)\n",
        "residuo = calcular_residuo(m_A, v_b, solucao_gs)\n",
        "print(f\"Solução aproximada (Gauss-Seidel): {solucao_gs}\")\n",
        "print(f\"Solução exata: {np.linalg.solve(m_A, v_b)}\")\n",
        "print(f\"Erro relativo: {(erro_relativo(np.linalg.solve(m_A, v_b), solucao_gs) * 100)}%\")\n",
        "print(f\"Vetor resíduo: {residuo}\")\n",
        "print(f\"Norma do resíduo: {np.linalg.norm(residuo)}\")"
      ],
      "metadata": {
        "colab": {
          "base_uri": "https://localhost:8080/"
        },
        "id": "8tlxR8l6rKGO",
        "outputId": "ccd0ba94-256e-486c-a7c1-d5fafbee65f1"
      },
      "execution_count": null,
      "outputs": [
        {
          "output_type": "stream",
          "name": "stdout",
          "text": [
            "\n",
            "=== Método de Gauss-Seidel ===\n",
            "Iteração 0: x = [-0.3  1.3  2.8 -2.3]\n",
            "\n",
            "Iteração 1: x = [ 0.1         1.1         2.86666667 -2.1       ]\n",
            "Erro absoluto: 0.494413 \n",
            "\n",
            "Iteração 2: x = [ 0.02380952  1.01809524  2.95873016 -2.02666667]\n",
            "Erro absoluto: 0.162379 \n",
            "\n",
            "Iteração 3: x = [ 0.00675737  1.00376417  2.98885865 -2.00718254]\n",
            "Erro absoluto: 0.042232 \n",
            "\n",
            "Iteração 4: x = [ 1.97494871e-03  1.00103974e+00  2.99694750e+00 -2.00201526e+00]\n",
            "Erro absoluto: 0.011065 \n",
            "\n",
            "Iteração 5: x = [ 5.66971838e-04  1.00030900e+00  2.99913926e+00 -2.00057402e+00]\n",
            "Erro absoluto: 0.003066 \n",
            "\n",
            "Iteração 6: x = [ 1.60904314e-04  1.00008964e+00  2.99975503e+00 -2.00016341e+00]\n",
            "Erro absoluto: 0.000872 \n",
            "\n",
            "Iteração 7: x = [ 4.55748350e-05  1.00002548e+00  2.99993034e+00 -2.00004640e+00]\n",
            "Erro absoluto: 0.000249 \n",
            "\n",
            "\n",
            "Convergiu em 7 iterações\n",
            "Solução aproximada (Gauss-Seidel): [ 4.55748350e-05  1.00002548e+00  2.99993034e+00 -2.00004640e+00]\n",
            "Solução exata: [ 2.22044605e-16  1.00000000e+00  3.00000000e+00 -2.00000000e+00]\n",
            "Erro relativo: 0.0026365666296192243%\n",
            "Vetor resíduo: [-2.28572834e-04  5.87078011e-05  1.17010275e-04  0.00000000e+00]\n",
            "Norma do resíduo: 0.00026340757567310815\n"
          ]
        }
      ]
    }
  ]
}