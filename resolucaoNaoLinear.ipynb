{
 "cells": [
  {
   "cell_type": "markdown",
   "id": "ebd76da0",
   "metadata": {},
   "source": [
    "# Resolução de Sistemas Não Lineares\n",
    "\n",
    "Um sistema não linear é um conjunto de equações com múltiplas vaiáveis, onde pelo menos uma equação é não linear, ou seja, não pode ser descrito apenas com somas, subtrações e multiplicações por constantes. Não conseguimos usar métodos de resolução de sistemas lineares em sistemas não lineares. Podemos usar alguns métodos numéricos iterativos, destacando o método de Newton-Raphson\n",
    "\n",
    "Aqui nós iremos fazer a implementação desse método para a resolução de um sistema não linear qualquer em Python. O algoritmo usará Sympy para simbolizar as equações, e numpy para fazer o tratamento com os números. Vamos precisar importar ambos para o nosso ambiente."
   ]
  },
  {
   "cell_type": "code",
   "execution_count": 49,
   "id": "b94fef3e",
   "metadata": {},
   "outputs": [],
   "source": [
    "import numpy as np\n",
    "import sympy as sp"
   ]
  },
  {
   "cell_type": "markdown",
   "id": "2ddc159c",
   "metadata": {},
   "source": [
    "\n",
    "## Método de Newton-Raphson\n",
    "\n",
    "### Matriz Jacobiana\n",
    "Antes de explicarmos como funciona o método de Newton-Raphson, vamos precisar explicar o que é uma matriz Jacobiana. Uma matriz Jacobiana é uma matriz com todas as derivadas parciais de um sistema de equação. Seja o sistema $F=\\{f_1,f_2,\\dots,f_n\\}$, em que cada função recebe as variáveis $\\{x_1,x_2,\\dots,x_n\\}$:\n",
    "\n",
    "$$\n",
    "J_F(x_1,\\dots,x_n)=\\frac{\\delta( f_1,\\dots, f_n)}{\\delta(x_1,\\dots,x_n)}=\n",
    "\\begin{bmatrix}\n",
    "\n",
    "\\frac{\\delta f_1}{\\delta x_1} & \\dots & \\frac{\\delta f_1}{\\delta x_n} \\\\\n",
    "\n",
    "\\vdots & \\ddots & \\vdots \\\\\n",
    "\n",
    "\\frac{\\delta f_m}{\\delta x_1} & \\dots & \\frac{\\delta f_m}{\\delta x_n}\n",
    "\n",
    "\\end{bmatrix}\n",
    "$$\n",
    "\n",
    "Abaixo nós temos uma implementação da obtenção da matriz Jacobiana. Temos duas funções, uma para obter todas as variáveis da função, e outra para obter a matriz Jacobiana em questão. A implementação da função para obter variáveis foi feita para simplificar a utilização do algoritmo para o usuário"
   ]
  },
  {
   "cell_type": "code",
   "execution_count": 50,
   "id": "1003125a",
   "metadata": {},
   "outputs": [],
   "source": [
    "'''\n",
    "    Descobre todas as variáveis livres de um sistema \n",
    "\n",
    "    Args:\n",
    "        F: O sistema, representado como uma lista com todas as funções no formato simbólico do Sympy\n",
    "    Retorno:\n",
    "        Lista com todas as variaveis do sistema\n",
    "'''\n",
    "def variaveis(F: list[sp.Expr]) -> list[sp.Symbol]:\n",
    "    allvars = [f.free_symbols for f in F]  # Cria uma lista com todas as variáveis de cada função\n",
    "    return list(set.union(*allvars)) # type: ignore\n",
    "\n",
    "'''\n",
    "    Retorna a Jacobiana de um sistema de funções.\n",
    "    Args:\n",
    "        F: O sistema, representado como uma lista com todas as funções no formato simbólico do Sympy\n",
    "    Retorno:\n",
    "        A matriz jacobiana, uma matriz com todas as derivadas parciais\n",
    "'''\n",
    "def jacobiana(F: list[sp.Expr]) -> list[list[sp.Expr]]:\n",
    "    J = []\n",
    "    derivadas = []\n",
    "\n",
    "    allvars = [f.free_symbols for f in F]  # Cria uma lista com todas as variáveis de cada função\n",
    "    vars = list(set.union(*allvars)) # Faz a união de todas as variáveis em uma lista\n",
    "\n",
    "    for i in range(len(F)): # Começa a iterar pela lista de funções\n",
    "        for j in vars: # Começa a iterar pela lista de variáveis\n",
    "            derivadas.append(sp.diff(F[i], j)) # Adiciona numa lista a derivada parcial da função, para cada variável\n",
    "        J.append(derivadas)\n",
    "        derivadas = []\n",
    "\n",
    "    return J # Transforma a matriz de derivadas parciais numa matriz do SymPy\n"
   ]
  },
  {
   "cell_type": "markdown",
   "id": "7d9b375d",
   "metadata": {},
   "source": [
    "### Método de Newton-Raphson\n",
    "\n",
    "Agora o método em questão. Vamos precisar seguir um passo a passo, que será repetido a cada iteração.\n",
    "Dados $x⁰$, $\\epsilon_1$, $\\epsilon_2 > 0$\n",
    "\n",
    "1. Calcular $F(x^k)$ e $J(x^k)$\n",
    "2. Se $\\|F(x^k)\\|_\\infin<\\epsilon_1$, então $x^*=x^k$ e pare; caso contrário, continue\n",
    "3. Obtenha $S^k$, solução do sistema linear $J(x^k).S^k=-F(x^k)$\n",
    "4. Faça: $x^{k+1}=x^k+S^k$\n",
    "5. Se $\\|x^{k+1}-x^k\\|_\\infin<\\epsilon_2$, faça $x^*=x^{k+1}$ e pare; caso contrário, continue\n",
    "6. $k=k+1$ e volte ao passo 1\n",
    "\n",
    "Segue o algoritmo implementado em Python:"
   ]
  },
  {
   "cell_type": "code",
   "execution_count": null,
   "id": "1689515d",
   "metadata": {},
   "outputs": [],
   "source": [
    "'''\n",
    "    Descobrir os zeros das funções em um sistema não linear, aplicando o método de Newton-Raphson\n",
    "\n",
    "    Args:\n",
    "        F: O sistema não linear, representado por uma lista com as funções em formato simbólico do Sympy \n",
    "        estimativa: Uma lista com as estimativas iniciais\n",
    "        epsilon1: Primeiro critério de parada (Fxk < epsilon)\n",
    "        epsilon2: Segundo critério de parada (xk1 - xk < epsilon)\n",
    "        maximoIteracoes: Maximo de iterações desejada [opcional]\n",
    "        verbose: Verdadeiro caso queira descrição maior de como foi o ciclo de iterações\n",
    "    \n",
    "    Retorno:\n",
    "        Um array numpy com os zeros das funções no sistema não linear F\n",
    "'''\n",
    "def newtonRaphson(F: list[sp.Expr], estimativa: list[float], epsilon1 = 10**-3, epsilon2 = 10**-3, maximoIteracoes=500, verbose=False) -> np.typing.NDArray[np.float64]:\n",
    "    if len(F) != len(estimativa): # Verifica se o sistema tem tamanho diferente da estimativa inicial\n",
    "        print(\"Tamanho da estimativa é diferente do sistema!\")\n",
    "        raise ArithmeticError # Levanta erro aritmético\n",
    "    \n",
    "    vars = variaveis(F) # Pega todas as variáveis do sistema de funções\n",
    "\n",
    "    if len(estimativa) != len(vars): # Verifica se a quantidade de variáveis no sistema bate com a quantidade de valores na estimativa\n",
    "        print(\"Estimativa inicial tem mais variáveis do que o sistema permite\")\n",
    "        raise ArithmeticError\n",
    "    \n",
    "    Fxk = np.array([])\n",
    "    Jxk = np.array([])\n",
    "    xk = np.array([np.float64(i) for i in estimativa]) # Transcrevendo a estimativa inicial para xk, para simplificar a leitura do algoritmo\n",
    "\n",
    "    J = jacobiana(F) # Calcula a jacobiana da função\n",
    "    lF = [sp.lambdify(vars, f, \"numpy\") for f in F] # Transforma todos os símbolos em F para funções lambda\n",
    "    lJ = [[sp.lambdify(vars, f, \"numpy\") for f in j] for j in J] # Transforma todos os símbolos em J para funções lambda\n",
    "\n",
    "    # Começa as iterações\n",
    "    for n in range(maximoIteracoes): # Critério de parada, para evitar infinitas iterações\n",
    "        Fxk = np.array([f(*xk) for f in lF]) # Pegamos os resultados do sistema F\n",
    "        Jxk = np.array([[f(*xk) for f in j] for j in lJ]) # Pegamos os resultados das funções da matriz Jacobiana\n",
    "\n",
    "        if np.linalg.norm(Fxk, np.inf) < epsilon1: # Primeiro critério de parada, verifica se algum resultado Fxk é menor que o primeiro epsilon\n",
    "            if verbose:\n",
    "                print(f\"Encontrado zero das funções no ciclo {n+1}: {xk}\")\n",
    "            return xk\n",
    "        \n",
    "        Sk = np.linalg.solve(Jxk, -Fxk) # Resolução do sistema linear\n",
    "        xk1 = xk+Sk # Reescrevendo xk1\n",
    "        if np.linalg.norm(xk1 - xk, np.inf) < epsilon2: # Segundo critério de parada, verifica se a diferença para o resultado anterior é menor que epsilon\n",
    "            if verbose:\n",
    "                print(f\"Encontrado zero das funções no ciclo {n+1}: {xk}\")\n",
    "            return xk1\n",
    "        \n",
    "        if verbose:\n",
    "            print(f\"Matriz resposta no ciclo {n+1}: {xk}\")\n",
    "        xk = xk1 # Preparando para a próxima iteração\n",
    "\n",
    "    print(\"Máximo de iterações ultrapassado!\")\n",
    "    if verbose:\n",
    "        print(\"Matriz resposta encontrada: {xk}\")\n",
    "    return xk"
   ]
  },
  {
   "cell_type": "markdown",
   "id": "6c3ff0ab",
   "metadata": {},
   "source": [
    "Agora nós temos tudo necessário para aplicar o método. Vamos testar com o seguinte sistema:\n",
    "\n",
    "$$\n",
    "\\begin{cases}\n",
    "\n",
    "F_1(x_1,x_2)=\\sin(x_1)+x_2^2-1=0 \\\\\n",
    "F_2(x_1,x_2)=x_1^2+\\cos(x_2)-2=0 \\\\\n",
    "\n",
    "\\end{cases}\\\\\n",
    "x^0=\\begin{pmatrix}\n",
    "0,5\\\\0,5\n",
    "\\end{pmatrix} \\\\\n",
    "\n",
    "\\epsilon_1=\\epsilon_2=10^{-3}\n",
    "\n",
    "\\\\~\\\\\\text{Resposta Esperada}\\\\~\\\\\n",
    "\n",
    "x_4^*=\\begin{pmatrix}\n",
    "1,034\\\\0,375\n",
    "\\end{pmatrix}\n",
    "$$"
   ]
  },
  {
   "cell_type": "code",
   "execution_count": 66,
   "id": "1cb14b87",
   "metadata": {},
   "outputs": [
    {
     "name": "stdout",
     "output_type": "stream",
     "text": [
      "Matriz resposta no ciclo 1: [0.5 0.5]\n",
      "Matriz resposta no ciclo 2: [1.20536546 0.15155803]\n",
      "Matriz resposta no ciclo 3: [1.04312522 0.48488618]\n",
      "Matriz resposta no ciclo 4: [1.03433425 0.38726511]\n",
      "Encontrado zero das funções no ciclo 5: [1.03415167 0.37512454]\n",
      "[1.03415167 0.37512454]\n"
     ]
    }
   ],
   "source": [
    "x1, x2 = sp.symbols('x1 x2')\n",
    "print(newtonRaphson([sp.sin(x1)+x2**2-1, x1**2+sp.cos(x2)-2],[0.5,0.5], verbose=True))"
   ]
  }
 ],
 "metadata": {
  "kernelspec": {
   "display_name": "ann",
   "language": "python",
   "name": "python3"
  },
  "language_info": {
   "codemirror_mode": {
    "name": "ipython",
    "version": 3
   },
   "file_extension": ".py",
   "mimetype": "text/x-python",
   "name": "python",
   "nbconvert_exporter": "python",
   "pygments_lexer": "ipython3",
   "version": "3.13.3"
  }
 },
 "nbformat": 4,
 "nbformat_minor": 5
}
